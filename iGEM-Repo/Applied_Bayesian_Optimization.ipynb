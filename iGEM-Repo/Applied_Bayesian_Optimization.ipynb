{
 "cells": [
  {
   "cell_type": "markdown",
   "metadata": {},
   "source": [
    "# Advanced Application Using *Bayesian Optimization* package\n",
    "    All rights reserved by SYSU-Software Yongye Su\n",
    "    For iGEM-2020"
   ]
  },
  {
   "cell_type": "code",
   "execution_count": 1,
   "metadata": {},
   "outputs": [],
   "source": [
    "from bayes_opt import BayesianOptimization"
   ]
  },
  {
   "cell_type": "code",
   "execution_count": 2,
   "metadata": {},
   "outputs": [],
   "source": [
    "optimizer = BayesianOptimization(\n",
    "    f=None,\n",
    "    pbounds={'x': (0, 50), 'y': (0, 50)},\n",
    "    verbose=2,\n",
    "    random_state=1,\n",
    ")"
   ]
  },
  {
   "cell_type": "code",
   "execution_count": 3,
   "metadata": {},
   "outputs": [],
   "source": [
    "from bayes_opt import UtilityFunction\n",
    "\n",
    "utility = UtilityFunction(kind=\"ei\", kappa=2.5, xi=0.0)"
   ]
  },
  {
   "cell_type": "code",
   "execution_count": 4,
   "metadata": {},
   "outputs": [
    {
     "name": "stdout",
     "output_type": "stream",
     "text": [
      "Next point to probe is: {'x': 20.8511002351287, 'y': 36.0162246721079}\n"
     ]
    }
   ],
   "source": [
    "next_point_to_probe = optimizer.suggest(utility)\n",
    "print(\"Next point to probe is:\", next_point_to_probe)"
   ]
  },
  {
   "cell_type": "code",
   "execution_count": 5,
   "metadata": {},
   "outputs": [
    {
     "name": "stdin",
     "output_type": "stream",
     "text": [
      "With given value, what result did you get? -90\n"
     ]
    },
    {
     "name": "stdout",
     "output_type": "stream",
     "text": [
      "Found the target value to be: -90.0\n"
     ]
    }
   ],
   "source": [
    "target = float(input(\"With given value, what result did you get?\"))\n",
    "print(\"Found the target value to be:\", target)"
   ]
  },
  {
   "cell_type": "markdown",
   "metadata": {},
   "source": [
    "## Opimize Register\n",
    "Since we need a lot steps of iteration, a register is useful in the process.  \n",
    "Don't worry, you even don't need to check it out. Enjoy it!"
   ]
  },
  {
   "cell_type": "code",
   "execution_count": 6,
   "metadata": {},
   "outputs": [],
   "source": [
    "optimizer.register(\n",
    "    params=next_point_to_probe,\n",
    "    target=target,\n",
    ")"
   ]
  },
  {
   "cell_type": "markdown",
   "metadata": {},
   "source": [
    "## So far: How many experiments are you willing to spend to get a relatively optimal solution ?\n",
    "Type the number of iterations here!  \n",
    "* *In fact every experiment is an iteration*"
   ]
  },
  {
   "cell_type": "code",
   "execution_count": 7,
   "metadata": {},
   "outputs": [
    {
     "name": "stdin",
     "output_type": "stream",
     "text": [
      "Your experiment time:  9\n"
     ]
    }
   ],
   "source": [
    "iter_num = int(input(\"Your experiment time: \"))"
   ]
  },
  {
   "cell_type": "code",
   "execution_count": null,
   "metadata": {},
   "outputs": [
    {
     "name": "stdout",
     "output_type": "stream",
     "text": [
      "These are your parameters, {'x': 5.438815738137959, 'y': 18.443958498671755}  and Please Input Your Result here: \n"
     ]
    }
   ],
   "source": [
    "for _ in range(iter_num):\n",
    "    next_point = optimizer.suggest(utility)\n",
    "    print(\"These are your parameters,\",next_point,\" and Please Input Your Result here: \")\n",
    "    R = input(\"R = \")\n",
    "    target = float(R)\n",
    "    optimizer.register(params=next_point, target=target)\n",
    "    print(target, next_point)\n",
    "#tmp = round(optimizer.max['x'])\n",
    "#optimizer.max['x'] = tmp\n",
    "print(optimizer.max)"
   ]
  },
  {
   "cell_type": "code",
   "execution_count": null,
   "metadata": {},
   "outputs": [],
   "source": []
  }
 ],
 "metadata": {
  "kernelspec": {
   "display_name": "Python 3",
   "language": "python",
   "name": "python3"
  },
  "language_info": {
   "codemirror_mode": {
    "name": "ipython",
    "version": 3
   },
   "file_extension": ".py",
   "mimetype": "text/x-python",
   "name": "python",
   "nbconvert_exporter": "python",
   "pygments_lexer": "ipython3",
   "version": "3.6.9"
  }
 },
 "nbformat": 4,
 "nbformat_minor": 4
}
